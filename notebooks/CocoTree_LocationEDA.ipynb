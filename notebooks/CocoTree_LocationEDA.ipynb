{
 "cells": [
  {
   "cell_type": "markdown",
   "metadata": {},
   "source": [
    "## Imports"
   ]
  },
  {
   "cell_type": "code",
   "execution_count": 2,
   "metadata": {},
   "outputs": [],
   "source": [
    "%matplotlib inline\n",
    "\n",
    "import numpy as np\n",
    "import pandas as pd\n",
    "\n",
    "import fiona\n",
    "\n",
    "import matplotlib.pyplot as plt\n",
    "import seaborn as sns\n",
    "\n",
    "import re\n",
    "\n",
    "sns.set(color_codes=True)"
   ]
  },
  {
   "cell_type": "markdown",
   "metadata": {},
   "source": [
    "## Extract Coco Trees"
   ]
  },
  {
   "cell_type": "code",
   "execution_count": 3,
   "metadata": {},
   "outputs": [
    {
     "data": {
      "text/plain": [
       "{'\"access\"=>\"private\"',\n",
       " '\"genus\"=>\"Cocos nucifera\",\"natural\"=>\"tree\"',\n",
       " '\"genus\"=>\"Cocos\",\"natural\"=>\"tree\",\"species\"=>\"Cocos nucifera L.\",\"trees\"=>\"coconut_palms\"',\n",
       " '\"genus\"=>\"Mangifera\",\"natural\"=>\"tree\",\"species\"=>\"Mangifera indica L.\",\"trees\"=>\"mango_trees\"',\n",
       " '\"genus\"=>\"Mangifera\",\"natural\"=>\"tree\",\"species\"=>\"Mangifera indica\",\"trees\"=>\"mango_trees\"',\n",
       " '\"genus\"=>\"Musa\",\"natural\"=>\"tree\"',\n",
       " '\"genus\"=>\"Musa\",\"natural\"=>\"tree\",\"species\"=>\"Musaceae\"',\n",
       " '\"genus\"=>\"Musa\",\"natural\"=>\"tree\",\"trees\"=>\"banana_plants\"',\n",
       " '\"genus\"=>\"musa\",\"natural\"=>\"tree\"',\n",
       " '\"leaf_cycle\"=>\"evergreen\",\"leaf_type\"=>\"needleleaved\",\"natural\"=>\"tree\",\"species\"=>\"Cocos nucifera\"',\n",
       " '\"natural\"=>\"tree\"',\n",
       " '\"natural\"=>\"tree\",\"species\"=>\"Carica papaya\"',\n",
       " '\"natural\"=>\"tree\",\"species\"=>\"Carica tree\"',\n",
       " '\"natural\"=>\"tree\",\"species\"=>\"Cocos c\"',\n",
       " '\"natural\"=>\"tree\",\"species\"=>\"Cocos nucifera\"',\n",
       " '\"natural\"=>\"tree\",\"species\"=>\"Cocus nucifera\"',\n",
       " '\"natural\"=>\"tree\",\"species\"=>\"Mangifera indica\"',\n",
       " '\"natural\"=>\"tree\",\"species\"=>\"Musa\"',\n",
       " '\"natural\"=>\"tree\",\"species\"=>\"cocos nucifera\"',\n",
       " '\"population\"=>\"195\"',\n",
       " '\"population\"=>\"200\"',\n",
       " '\"population\"=>\"259\"',\n",
       " '\"population\"=>\"572\"',\n",
       " '\"population\"=>\"607\"',\n",
       " '\"power\"=>\"pole\"',\n",
       " '\"tourism\"=>\"hotel\"',\n",
       " '\"tower:type\"=>\"communication\"',\n",
       " None}"
      ]
     },
     "execution_count": 3,
     "metadata": {},
     "output_type": "execute_result"
    }
   ],
   "source": [
    "datafile = '../data/tree_coconuts/Kolovai-Trees-20180108.shp'\n",
    "\n",
    "possible_tags = set()\n",
    "\n",
    "coll_list = []\n",
    "\n",
    "with fiona.drivers():\n",
    "    with fiona.open(datafile) as source:\n",
    "        for coll in source:\n",
    "            coll_list.append(coll)\n",
    "            possible_tags.add(coll['properties']['other_tags'])\n",
    "\n",
    "possible_tags"
   ]
  },
  {
   "cell_type": "code",
   "execution_count": 4,
   "metadata": {},
   "outputs": [],
   "source": [
    "coco_trees = []\n",
    "\n",
    "for coll in coll_list:\n",
    "    if coll['properties']['other_tags'] is None:\n",
    "        continue\n",
    "    elif 'coco' in coll['properties']['other_tags'].lower():\n",
    "        x,y = coll['geometry']['coordinates']\n",
    "        coco_trees.append({'x': x, 'y': y})\n",
    "\n",
    "coco_trees = pd.DataFrame(coco_trees)\n",
    "\n",
    "coco_trees.to_csv('../data/tree_coconuts/locations.json')"
   ]
  },
  {
   "cell_type": "markdown",
   "metadata": {},
   "source": [
    "## Preliminary EDA"
   ]
  },
  {
   "cell_type": "code",
   "execution_count": 5,
   "metadata": {},
   "outputs": [
    {
     "name": "stdout",
     "output_type": "stream",
     "text": [
      "Number of labeled trees: 10314\n"
     ]
    }
   ],
   "source": [
    "print(\"Number of labeled trees:\", coco_trees.shape[0])"
   ]
  },
  {
   "cell_type": "code",
   "execution_count": null,
   "metadata": {},
   "outputs": [],
   "source": [
    "sns.jointplot(x=\"x\", y=\"y\", data=coco_trees, kind=\"kde\")"
   ]
  },
  {
   "cell_type": "code",
   "execution_count": null,
   "metadata": {
    "collapsed": true
   },
   "outputs": [],
   "source": []
  }
 ],
 "metadata": {
  "kernelspec": {
   "display_name": "Python 3",
   "language": "python",
   "name": "python3"
  },
  "language_info": {
   "codemirror_mode": {
    "name": "ipython",
    "version": 3
   },
   "file_extension": ".py",
   "mimetype": "text/x-python",
   "name": "python",
   "nbconvert_exporter": "python",
   "pygments_lexer": "ipython3",
   "version": "3.6.4"
  }
 },
 "nbformat": 4,
 "nbformat_minor": 2
}
