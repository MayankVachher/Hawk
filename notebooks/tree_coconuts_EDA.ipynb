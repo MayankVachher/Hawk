{
 "cells": [
  {
   "cell_type": "code",
   "execution_count": null,
   "metadata": {
    "collapsed": true
   },
   "outputs": [],
   "source": [
    "%matplotlib inline"
   ]
  },
  {
   "cell_type": "code",
   "execution_count": 2,
   "metadata": {
    "collapsed": true
   },
   "outputs": [],
   "source": [
    "#import shapefile\n",
    "import numpy as np\n",
    "import pandas as pd\n",
    "import matplotlib.pyplot as plt\n",
    "import seaborn as sns\n",
    "from PIL import Image\n",
    "#from mpl_toolkits.basemap import Basemap\n",
    "from osgeo import gdal\n",
    "import re\n",
    "\n",
    "sns.set(color_codes=True)"
   ]
  },
  {
   "cell_type": "code",
   "execution_count": 4,
   "metadata": {},
   "outputs": [],
   "source": [
    "\n",
    "coco_trees = []\n",
    "    \n",
    "data = pd.read_json('../data/tree_coconuts/trees.json')\n",
    "data = data['features']\n",
    "\n",
    "coco = re.compile(r'\"(\\w+)\"=>\"(\\w+)\",\"(\\w+)\"=>\"(\\w+)\"')\n",
    "# extract coconut trees\n",
    "for record in data:\n",
    "    properties = record['properties']\n",
    "    geomtery = record['geometry']\n",
    "    if(properties['other_tags']):\n",
    "        tags = properties['other_tags'].split(',')\n",
    "        for tree_tags in tags:\n",
    "            trees = tree_tags.split('=>')\n",
    "            if ((trees[0] == '\"species\"')|(trees[0] =='\"genus\"')):\n",
    "                if(re.search('^\"Cocos.', trees[1])):\n",
    "                    # we found coco trees\n",
    "                    coco_trees.append({\"x\": record['geometry']['coordinates'][0],\\\n",
    "                                  \"y\": record['geometry']['coordinates'][1]})\n",
    "\n",
    "coco_trees = pd.DataFrame(coco_trees)"
   ]
  },
  {
   "cell_type": "code",
   "execution_count": 5,
   "metadata": {},
   "outputs": [
    {
     "name": "stdout",
     "output_type": "stream",
     "text": [
      "Number of labeled trees: 6849\n"
     ]
    }
   ],
   "source": [
    "print(\"Number of labeled trees:\", coco_trees.shape[0])"
   ]
  },
  {
   "cell_type": "code",
   "execution_count": 7,
   "metadata": {},
   "outputs": [
    {
     "data": {
      "text/plain": [
       "<seaborn.axisgrid.JointGrid at 0x1a1536cba8>"
      ]
     },
     "execution_count": 7,
     "metadata": {},
     "output_type": "execute_result"
    }
   ],
   "source": [
    "sns.jointplot(x=\"x\", y=\"y\", data=coco_trees, kind=\"kde\")"
   ]
  },
  {
   "cell_type": "code",
   "execution_count": null,
   "metadata": {
    "collapsed": true
   },
   "outputs": [],
   "source": [
    "# Referenced from: https://annefou.github.io/metos_python/04-plotting/\n",
    "fig = plt.figure(figsize=(15,15))  # a new figure window\n",
    "ax = fig.add_subplot(1, 1, 1)  # specify (nrows, ncols, axnum)\n",
    "ax.set_title('Southern Norway and Sweden 29/02/2017  terra 1km', fontsize=14)\n",
    "\n",
    "# Read the data and metadata\n",
    "datafile = gdal.Open(\"../data/aerial_image/kolovai.tif\")\n",
    "bnd1 = datafile.GetRasterBand(1).ReadAsArray()\n",
    "bnd2 = datafile.GetRasterBand(2).ReadAsArray()\n",
    "bnd3 = datafile.GetRasterBand(3).ReadAsArray()\n",
    "nx = datafile.RasterXSize # Raster xsize\n",
    "ny = datafile.RasterYSize # Raster ysize\n",
    "\n",
    "img = np.dstack((bnd1, bnd2, bnd3))\n",
    "gt = datafile.GetGeoTransform()\n",
    "proj = datafile.GetProjection()\n",
    "\n",
    "print(\"Geotransform\",gt)\n",
    "print(\"proj=\", proj)\n",
    "xres = gt[1]\n",
    "yres = gt[5]\n",
    "\n",
    "\n",
    "# get the edge coordinates and add half the resolution \n",
    "# to go to center coordinates\n",
    "xmin = gt[0] + xres * 0.5\n",
    "xmax = gt[0] + (xres * nx) - xres * 0.5\n",
    "ymin = gt[3] + (yres * ny) + yres * 0.5\n",
    "ymax = gt[3] - yres * 0.5\n",
    "print(\"xmin=\", xmin,\"xmax=\", xmax,\"ymin=\",ymin, \"ymax=\", ymax)\n",
    "\n",
    "map = Basemap(projection='cyl',llcrnrlat=ymin,urcrnrlat=ymax,\\\n",
    "            llcrnrlon=xmin,urcrnrlon=xmax , resolution='i', ax=ax)\n",
    "\n",
    "map.imshow(img, origin='upper', ax=ax)\n",
    "map.drawcountries(color='blue', linewidth=1.5, ax=ax)\n",
    "map.drawcoastlines(linewidth=1.5, color='red', ax=ax)"
   ]
  },
  {
   "cell_type": "code",
   "execution_count": null,
   "metadata": {
    "collapsed": true
   },
   "outputs": [],
   "source": []
  }
 ],
 "metadata": {
  "kernelspec": {
   "display_name": "Python 3",
   "language": "python",
   "name": "python3"
  },
  "language_info": {
   "codemirror_mode": {
    "name": "ipython",
    "version": 3
   },
   "file_extension": ".py",
   "mimetype": "text/x-python",
   "name": "python",
   "nbconvert_exporter": "python",
   "pygments_lexer": "ipython3",
   "version": "3.6.3"
  }
 },
 "nbformat": 4,
 "nbformat_minor": 2
}
